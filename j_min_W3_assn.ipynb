{
 "cells": [
  {
   "cell_type": "code",
   "execution_count": 2,
   "metadata": {},
   "outputs": [],
   "source": [
    "import csv\n",
    "with open('cars-sample35.txt') as csvfile:\n",
    "    readCSV = csv.reader(csvfile)\n",
    "    # empty all the lists\n",
    "    price = []\n",
    "    maintenance_cost = []\n",
    "    number_of_doors = []\n",
    "    number_of_passengers = []\n",
    "    luggage_capacity = []\n",
    "    safety_rating = []\n",
    "    classification_of_vehicle = []\n",
    "    for row in readCSV:\n",
    "        # insert values to each list\n",
    "        price.append(row[0])\n",
    "        maintenance_cost.append(row[1])\n",
    "        number_of_doors.append(row[2])\n",
    "        number_of_passengers.append(row[3])\n",
    "        luggage_capacity.append(row[4])\n",
    "        safety_rating.append(row[5])\n",
    "        classification_of_vehicle.append(row[6])"
   ]
  },
  {
   "cell_type": "markdown",
   "metadata": {},
   "source": [
    "#1\n",
    "#find the list index values of each automobile having a price rating of \"med\"\n",
    "#use list comprehension including a for loop through the indices of the list\n",
    "#within the for loop store the index to the list if price is med\n",
    "#print out the result"
   ]
  },
  {
   "cell_type": "code",
   "execution_count": 9,
   "metadata": {},
   "outputs": [
    {
     "data": {
      "text/plain": [
       "[6, 16, 20, 23, 26, 29]"
      ]
     },
     "execution_count": 9,
     "metadata": {},
     "output_type": "execute_result"
    }
   ],
   "source": [
    "ind_pricemed = [i for i in range(len(price)) if price[i] == 'med']\n",
    "ind_pricemed"
   ]
  },
  {
   "cell_type": "markdown",
   "metadata": {},
   "source": [
    "#2\n",
    "#find the \"number of passengers\" value for each auto having a \"price\" value of \"med\"\n",
    "#use list comprehension including a for loop through the indices of the list\n",
    "#within the for loop store the index to the list if price is med\n",
    "#print out the result"
   ]
  },
  {
   "cell_type": "code",
   "execution_count": 11,
   "metadata": {},
   "outputs": [
    {
     "data": {
      "text/plain": [
       "['more', '2', '2', '2', '4', '2']"
      ]
     },
     "execution_count": 11,
     "metadata": {},
     "output_type": "execute_result"
    }
   ],
   "source": [
    "pn_pricemed = [number_of_passengers[i] for i in range(len(price)) if price[i] == 'med']\n",
    "pn_pricemed"
   ]
  },
  {
   "cell_type": "markdown",
   "metadata": {},
   "source": [
    "#3\n",
    "#find the index value for each automobile having a price value of \"high\" and a maintenance value that is not \"low\"\n",
    "#use list comprehension including a for loop through the indice of the list\n",
    "#with the for loop store the index to the list if price is high and maintenance is not low\n",
    "#print out the result"
   ]
  },
  {
   "cell_type": "code",
   "execution_count": 14,
   "metadata": {},
   "outputs": [
    {
     "data": {
      "text/plain": [
       "[0, 1, 2, 27, 31]"
      ]
     },
     "execution_count": 14,
     "metadata": {},
     "output_type": "execute_result"
    }
   ],
   "source": [
    "ind_pricehigh_mcnotlow = [i for i in range(len(price)) if price[i] == 'high' and maintenance_cost[i] != 'low']\n",
    "ind_pricehigh_mcnotlow"
   ]
  },
  {
   "cell_type": "markdown",
   "metadata": {},
   "source": [
    "#4\n",
    "#nlist = [ [1, 2, 3], [‘A’, ‘B’, ‘C’], [4, 5], [‘D’, ‘E’] ]\n",
    "#extract each individual element of the component lists contained within nlistand add them to a new list\n",
    "#double for loop in a list comprehension\n",
    "#first for loop of each list element in list\n",
    "#second for loop of each element in the each list element\n",
    "#store the result into a new list and print out"
   ]
  },
  {
   "cell_type": "code",
   "execution_count": 26,
   "metadata": {},
   "outputs": [
    {
     "data": {
      "text/plain": [
       "[1, 2, 3, 'A', 'B', 'C', 4, 5, 'D', 'E']"
      ]
     },
     "execution_count": 26,
     "metadata": {},
     "output_type": "execute_result"
    }
   ],
   "source": [
    "nlist = [ [1, 2, 3], ['A', 'B', 'C'], [4, 5], ['D', 'E'] ]\n",
    "flist = [j for i in nlist for j in i]\n",
    "flist"
   ]
  },
  {
   "cell_type": "markdown",
   "metadata": {},
   "source": [
    "#5\n",
    "#use the function to create two new dictobjects containing the first seven elements of the ‘Price’ and ‘Luggage’ lists\n",
    "#use these dict objects to tell us the price and luggage capacity of the auto identified by the ‘A4’ key value\n",
    "#define a new function to make a new dict\n",
    "#for the dict insert a key-value pair\n",
    "#check the input integer to make sure it does not exceed the list range\n",
    "#use the function to get desired value from the given list"
   ]
  },
  {
   "cell_type": "code",
   "execution_count": 41,
   "metadata": {},
   "outputs": [
    {
     "data": {
      "text/plain": [
       "'vhigh'"
      ]
     },
     "execution_count": 41,
     "metadata": {},
     "output_type": "execute_result"
    }
   ],
   "source": [
    "def makedict(mylist, x):\n",
    "    newdict = {}\n",
    "    if x <= len(mylist):\n",
    "        for i in range(x):\n",
    "            newdict['A' + str(i)] = mylist[i]\n",
    "        return(newdict)\n",
    "    else: \n",
    "        raise ValueError('Integer value exceeds the length of the list parameter')\n",
    "#price\n",
    "pricedict = makedict(price, 7)\n",
    "pricedict['A4']"
   ]
  },
  {
   "cell_type": "code",
   "execution_count": 40,
   "metadata": {},
   "outputs": [
    {
     "data": {
      "text/plain": [
       "'med'"
      ]
     },
     "execution_count": 40,
     "metadata": {},
     "output_type": "execute_result"
    }
   ],
   "source": [
    "#luggage\n",
    "lcdict = makedict(luggage_capacity, 7)\n",
    "lcdict['A4']"
   ]
  }
 ],
 "metadata": {
  "kernelspec": {
   "display_name": "Python 3",
   "language": "python",
   "name": "python3"
  },
  "language_info": {
   "codemirror_mode": {
    "name": "ipython",
    "version": 3
   },
   "file_extension": ".py",
   "mimetype": "text/x-python",
   "name": "python",
   "nbconvert_exporter": "python",
   "pygments_lexer": "ipython3",
   "version": "3.7.3"
  }
 },
 "nbformat": 4,
 "nbformat_minor": 2
}
