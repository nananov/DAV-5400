{
 "cells": [
  {
   "cell_type": "markdown",
   "metadata": {},
   "source": [
    "# DAV 5400 Final Project Proposal\n",
    "### Team members: Jingmin Chen, Jiaqi Min, Yusen Wu"
   ]
  },
  {
   "cell_type": "markdown",
   "metadata": {},
   "source": [
    "## Introduction\n",
    "* It is widely believed that drinking alcohol would negatively affect human action and judgment, which could be confirmed when we see how government regulations set up limitations for people who have drunk. Meanwhile, some researchers have come up with a new topic based on why people still choose to drink even though they are conscious that there might be a negative influence on themselves, and this leads to our research question related to alcohol, which includes wine reviews and relationship between alcohol consumption and peoples’ mood. "
   ]
  },
  {
   "cell_type": "markdown",
   "metadata": {},
   "source": [
    "## Research Questions\n",
    "* 1.Is that true there is a relationship between happiness score and alcohol consumption for each country? If so, is there one kind of alcohol more significant than others? \n",
    "* 2.For the top ten countries with the highest wine consumption from the previous question, is there a relationship between wine price and review points? \n",
    "* Results of our research questions might be used for health or psychology fields to be an evidence for if a specific type of alcohol does affect how people feel and if there is a regional difference. It could also be a reference for an alcohol salesman to decide what and where to import, according to the data of how people feel, and the corresponding price as well. "
   ]
  },
  {
   "cell_type": "markdown",
   "metadata": {},
   "source": [
    "## Data to be Used\n",
    "* 1.Wine Reviews  \n",
    "* (https://www.kaggle.com/zynicide/wine-reviews)\n",
    "* Data from this source will be collected in a json format\n",
    "* 2.Happiness and alcohol consumption \n",
    "* (https://www.kaggle.com/marcospessotto/happiness-and-alcohol-consumption)\n",
    "* Data from this source will be collected in a csv file"
   ]
  },
  {
   "cell_type": "markdown",
   "metadata": {},
   "source": [
    "## Approach\n",
    "* Since we have two types of datasets (CSV and JSON) and both datasets have a huge amount of data, we decided to only use related data for our research. We will use python pandas to read these datasets and do the cleaning up and transformation and combine these two datasets into one dataset and stored in our online Github as CSV format.\n",
    "* To analyze our data, we would apply a box plot and a histogram for each of the alcohol type from the alcohol consumption dataset, and do a bar chart of alcohol category for each of the few countries with the highest wine consumption; then select those countries from the wine review dataset, and draw a scatter plot to show the relationship between price and review points. "
   ]
  }
 ],
 "metadata": {
  "kernelspec": {
   "display_name": "Python 3",
   "language": "python",
   "name": "python3"
  },
  "language_info": {
   "codemirror_mode": {
    "name": "ipython",
    "version": 3
   },
   "file_extension": ".py",
   "mimetype": "text/x-python",
   "name": "python",
   "nbconvert_exporter": "python",
   "pygments_lexer": "ipython3",
   "version": "3.7.3"
  }
 },
 "nbformat": 4,
 "nbformat_minor": 2
}
