{
 "cells": [
  {
   "cell_type": "markdown",
   "metadata": {},
   "source": [
    "# Project 1: Houston Flights\n",
    "### Group members: Jingmin Chen, Jiaqi Min, Yusen Wu\n",
    "### Dataset: hflights\n",
    "### Research questions: \n",
    "### 1) What is the carrier least likely to delay? \n",
    "### 2) What is the fastest flight from George Bush International Airport to Los Angeles International Airport? \n",
    "### 3) What is the most common reason for American Airlines to cancel a flight? \n",
    "### 4) What is the farthest flight departures from George Bush International Airport? "
   ]
  },
  {
   "cell_type": "markdown",
   "metadata": {},
   "source": [
    "## Part I: Preparation for the reseach"
   ]
  },
  {
   "cell_type": "code",
   "execution_count": 10,
   "metadata": {},
   "outputs": [
    {
     "data": {
      "text/html": [
       "<div>\n",
       "<style scoped>\n",
       "    .dataframe tbody tr th:only-of-type {\n",
       "        vertical-align: middle;\n",
       "    }\n",
       "\n",
       "    .dataframe tbody tr th {\n",
       "        vertical-align: top;\n",
       "    }\n",
       "\n",
       "    .dataframe thead th {\n",
       "        text-align: right;\n",
       "    }\n",
       "</style>\n",
       "<table border=\"1\" class=\"dataframe\">\n",
       "  <thead>\n",
       "    <tr style=\"text-align: right;\">\n",
       "      <th></th>\n",
       "      <th>Year</th>\n",
       "      <th>Month</th>\n",
       "      <th>DayofMonth</th>\n",
       "      <th>DayOfWeek</th>\n",
       "      <th>DepTime</th>\n",
       "      <th>ArrTime</th>\n",
       "      <th>UniqueCarrier</th>\n",
       "      <th>FlightNum</th>\n",
       "      <th>TailNum</th>\n",
       "      <th>ActualElapsedTime</th>\n",
       "      <th>AirTime</th>\n",
       "      <th>ArrDelay</th>\n",
       "      <th>DepDelay</th>\n",
       "      <th>Origin</th>\n",
       "      <th>Dest</th>\n",
       "      <th>Distance</th>\n",
       "      <th>TaxiIn</th>\n",
       "      <th>TaxiOut</th>\n",
       "      <th>Cancelled</th>\n",
       "      <th>CancellationCode</th>\n",
       "      <th>Diverted</th>\n",
       "    </tr>\n",
       "  </thead>\n",
       "  <tbody>\n",
       "    <tr>\n",
       "      <th>0</th>\n",
       "      <td>2011</td>\n",
       "      <td>1</td>\n",
       "      <td>1</td>\n",
       "      <td>6</td>\n",
       "      <td>1400.0</td>\n",
       "      <td>1500.0</td>\n",
       "      <td>AA</td>\n",
       "      <td>428</td>\n",
       "      <td>N576AA</td>\n",
       "      <td>60.0</td>\n",
       "      <td>40.0</td>\n",
       "      <td>-10.0</td>\n",
       "      <td>0.0</td>\n",
       "      <td>IAH</td>\n",
       "      <td>DFW</td>\n",
       "      <td>224</td>\n",
       "      <td>7.0</td>\n",
       "      <td>13.0</td>\n",
       "      <td>0</td>\n",
       "      <td>NaN</td>\n",
       "      <td>0</td>\n",
       "    </tr>\n",
       "    <tr>\n",
       "      <th>1</th>\n",
       "      <td>2011</td>\n",
       "      <td>1</td>\n",
       "      <td>2</td>\n",
       "      <td>7</td>\n",
       "      <td>1401.0</td>\n",
       "      <td>1501.0</td>\n",
       "      <td>AA</td>\n",
       "      <td>428</td>\n",
       "      <td>N557AA</td>\n",
       "      <td>60.0</td>\n",
       "      <td>45.0</td>\n",
       "      <td>-9.0</td>\n",
       "      <td>1.0</td>\n",
       "      <td>IAH</td>\n",
       "      <td>DFW</td>\n",
       "      <td>224</td>\n",
       "      <td>6.0</td>\n",
       "      <td>9.0</td>\n",
       "      <td>0</td>\n",
       "      <td>NaN</td>\n",
       "      <td>0</td>\n",
       "    </tr>\n",
       "    <tr>\n",
       "      <th>2</th>\n",
       "      <td>2011</td>\n",
       "      <td>1</td>\n",
       "      <td>3</td>\n",
       "      <td>1</td>\n",
       "      <td>1352.0</td>\n",
       "      <td>1502.0</td>\n",
       "      <td>AA</td>\n",
       "      <td>428</td>\n",
       "      <td>N541AA</td>\n",
       "      <td>70.0</td>\n",
       "      <td>48.0</td>\n",
       "      <td>-8.0</td>\n",
       "      <td>-8.0</td>\n",
       "      <td>IAH</td>\n",
       "      <td>DFW</td>\n",
       "      <td>224</td>\n",
       "      <td>5.0</td>\n",
       "      <td>17.0</td>\n",
       "      <td>0</td>\n",
       "      <td>NaN</td>\n",
       "      <td>0</td>\n",
       "    </tr>\n",
       "    <tr>\n",
       "      <th>3</th>\n",
       "      <td>2011</td>\n",
       "      <td>1</td>\n",
       "      <td>4</td>\n",
       "      <td>2</td>\n",
       "      <td>1403.0</td>\n",
       "      <td>1513.0</td>\n",
       "      <td>AA</td>\n",
       "      <td>428</td>\n",
       "      <td>N403AA</td>\n",
       "      <td>70.0</td>\n",
       "      <td>39.0</td>\n",
       "      <td>3.0</td>\n",
       "      <td>3.0</td>\n",
       "      <td>IAH</td>\n",
       "      <td>DFW</td>\n",
       "      <td>224</td>\n",
       "      <td>9.0</td>\n",
       "      <td>22.0</td>\n",
       "      <td>0</td>\n",
       "      <td>NaN</td>\n",
       "      <td>0</td>\n",
       "    </tr>\n",
       "    <tr>\n",
       "      <th>4</th>\n",
       "      <td>2011</td>\n",
       "      <td>1</td>\n",
       "      <td>5</td>\n",
       "      <td>3</td>\n",
       "      <td>1405.0</td>\n",
       "      <td>1507.0</td>\n",
       "      <td>AA</td>\n",
       "      <td>428</td>\n",
       "      <td>N492AA</td>\n",
       "      <td>62.0</td>\n",
       "      <td>44.0</td>\n",
       "      <td>-3.0</td>\n",
       "      <td>5.0</td>\n",
       "      <td>IAH</td>\n",
       "      <td>DFW</td>\n",
       "      <td>224</td>\n",
       "      <td>9.0</td>\n",
       "      <td>9.0</td>\n",
       "      <td>0</td>\n",
       "      <td>NaN</td>\n",
       "      <td>0</td>\n",
       "    </tr>\n",
       "  </tbody>\n",
       "</table>\n",
       "</div>"
      ],
      "text/plain": [
       "   Year  Month  DayofMonth  DayOfWeek  DepTime  ArrTime UniqueCarrier  \\\n",
       "0  2011      1           1          6   1400.0   1500.0            AA   \n",
       "1  2011      1           2          7   1401.0   1501.0            AA   \n",
       "2  2011      1           3          1   1352.0   1502.0            AA   \n",
       "3  2011      1           4          2   1403.0   1513.0            AA   \n",
       "4  2011      1           5          3   1405.0   1507.0            AA   \n",
       "\n",
       "   FlightNum TailNum  ActualElapsedTime  AirTime  ArrDelay  DepDelay Origin  \\\n",
       "0        428  N576AA               60.0     40.0     -10.0       0.0    IAH   \n",
       "1        428  N557AA               60.0     45.0      -9.0       1.0    IAH   \n",
       "2        428  N541AA               70.0     48.0      -8.0      -8.0    IAH   \n",
       "3        428  N403AA               70.0     39.0       3.0       3.0    IAH   \n",
       "4        428  N492AA               62.0     44.0      -3.0       5.0    IAH   \n",
       "\n",
       "  Dest  Distance  TaxiIn  TaxiOut  Cancelled CancellationCode  Diverted  \n",
       "0  DFW       224     7.0     13.0          0              NaN         0  \n",
       "1  DFW       224     6.0      9.0          0              NaN         0  \n",
       "2  DFW       224     5.0     17.0          0              NaN         0  \n",
       "3  DFW       224     9.0     22.0          0              NaN         0  \n",
       "4  DFW       224     9.0      9.0          0              NaN         0  "
      ]
     },
     "execution_count": 10,
     "metadata": {},
     "output_type": "execute_result"
    }
   ],
   "source": [
    "# import pandas\n",
    "import pandas as pd\n",
    "from datetime import datetime\n",
    "pd.set_option('display.max_columns',None)\n",
    "# import dataset\n",
    "filename =\"https://raw.githubusercontent.com/jtopor/DAV-5400/master/Project1/hflights.csv\"\n",
    "df = pd.read_csv(filename)\n",
    "# restore the data into a new dataframe named df1\n",
    "# print out the first few lines of df1 to see what columns it includes\n",
    "df1 = df\n",
    "df1.head()"
   ]
  },
  {
   "cell_type": "code",
   "execution_count": 4,
   "metadata": {},
   "outputs": [],
   "source": [
    "df1.rename(columns={'DayofMonth':'Day'}, inplace=True)"
   ]
  },
  {
   "cell_type": "code",
   "execution_count": 5,
   "metadata": {},
   "outputs": [
    {
     "data": {
      "text/html": [
       "<div>\n",
       "<style scoped>\n",
       "    .dataframe tbody tr th:only-of-type {\n",
       "        vertical-align: middle;\n",
       "    }\n",
       "\n",
       "    .dataframe tbody tr th {\n",
       "        vertical-align: top;\n",
       "    }\n",
       "\n",
       "    .dataframe thead th {\n",
       "        text-align: right;\n",
       "    }\n",
       "</style>\n",
       "<table border=\"1\" class=\"dataframe\">\n",
       "  <thead>\n",
       "    <tr style=\"text-align: right;\">\n",
       "      <th></th>\n",
       "      <th>Year</th>\n",
       "      <th>Month</th>\n",
       "      <th>Day</th>\n",
       "      <th>DayOfWeek</th>\n",
       "      <th>DepTime</th>\n",
       "      <th>ArrTime</th>\n",
       "      <th>UniqueCarrier</th>\n",
       "      <th>FlightNum</th>\n",
       "      <th>TailNum</th>\n",
       "      <th>ActualElapsedTime</th>\n",
       "      <th>AirTime</th>\n",
       "      <th>ArrDelay</th>\n",
       "      <th>DepDelay</th>\n",
       "      <th>Origin</th>\n",
       "      <th>Dest</th>\n",
       "      <th>Distance</th>\n",
       "      <th>TaxiIn</th>\n",
       "      <th>TaxiOut</th>\n",
       "      <th>Cancelled</th>\n",
       "      <th>CancellationCode</th>\n",
       "      <th>Diverted</th>\n",
       "      <th>flightDate</th>\n",
       "    </tr>\n",
       "  </thead>\n",
       "  <tbody>\n",
       "    <tr>\n",
       "      <th>0</th>\n",
       "      <td>2011</td>\n",
       "      <td>1</td>\n",
       "      <td>1</td>\n",
       "      <td>6</td>\n",
       "      <td>1400.0</td>\n",
       "      <td>1500.0</td>\n",
       "      <td>AA</td>\n",
       "      <td>428</td>\n",
       "      <td>N576AA</td>\n",
       "      <td>60.0</td>\n",
       "      <td>40.0</td>\n",
       "      <td>-10.0</td>\n",
       "      <td>0.0</td>\n",
       "      <td>IAH</td>\n",
       "      <td>DFW</td>\n",
       "      <td>224</td>\n",
       "      <td>7.0</td>\n",
       "      <td>13.0</td>\n",
       "      <td>0</td>\n",
       "      <td>NaN</td>\n",
       "      <td>0</td>\n",
       "      <td>2011-01-01</td>\n",
       "    </tr>\n",
       "    <tr>\n",
       "      <th>1</th>\n",
       "      <td>2011</td>\n",
       "      <td>1</td>\n",
       "      <td>2</td>\n",
       "      <td>7</td>\n",
       "      <td>1401.0</td>\n",
       "      <td>1501.0</td>\n",
       "      <td>AA</td>\n",
       "      <td>428</td>\n",
       "      <td>N557AA</td>\n",
       "      <td>60.0</td>\n",
       "      <td>45.0</td>\n",
       "      <td>-9.0</td>\n",
       "      <td>1.0</td>\n",
       "      <td>IAH</td>\n",
       "      <td>DFW</td>\n",
       "      <td>224</td>\n",
       "      <td>6.0</td>\n",
       "      <td>9.0</td>\n",
       "      <td>0</td>\n",
       "      <td>NaN</td>\n",
       "      <td>0</td>\n",
       "      <td>2011-01-02</td>\n",
       "    </tr>\n",
       "    <tr>\n",
       "      <th>2</th>\n",
       "      <td>2011</td>\n",
       "      <td>1</td>\n",
       "      <td>3</td>\n",
       "      <td>1</td>\n",
       "      <td>1352.0</td>\n",
       "      <td>1502.0</td>\n",
       "      <td>AA</td>\n",
       "      <td>428</td>\n",
       "      <td>N541AA</td>\n",
       "      <td>70.0</td>\n",
       "      <td>48.0</td>\n",
       "      <td>-8.0</td>\n",
       "      <td>-8.0</td>\n",
       "      <td>IAH</td>\n",
       "      <td>DFW</td>\n",
       "      <td>224</td>\n",
       "      <td>5.0</td>\n",
       "      <td>17.0</td>\n",
       "      <td>0</td>\n",
       "      <td>NaN</td>\n",
       "      <td>0</td>\n",
       "      <td>2011-01-03</td>\n",
       "    </tr>\n",
       "    <tr>\n",
       "      <th>3</th>\n",
       "      <td>2011</td>\n",
       "      <td>1</td>\n",
       "      <td>4</td>\n",
       "      <td>2</td>\n",
       "      <td>1403.0</td>\n",
       "      <td>1513.0</td>\n",
       "      <td>AA</td>\n",
       "      <td>428</td>\n",
       "      <td>N403AA</td>\n",
       "      <td>70.0</td>\n",
       "      <td>39.0</td>\n",
       "      <td>3.0</td>\n",
       "      <td>3.0</td>\n",
       "      <td>IAH</td>\n",
       "      <td>DFW</td>\n",
       "      <td>224</td>\n",
       "      <td>9.0</td>\n",
       "      <td>22.0</td>\n",
       "      <td>0</td>\n",
       "      <td>NaN</td>\n",
       "      <td>0</td>\n",
       "      <td>2011-01-04</td>\n",
       "    </tr>\n",
       "    <tr>\n",
       "      <th>4</th>\n",
       "      <td>2011</td>\n",
       "      <td>1</td>\n",
       "      <td>5</td>\n",
       "      <td>3</td>\n",
       "      <td>1405.0</td>\n",
       "      <td>1507.0</td>\n",
       "      <td>AA</td>\n",
       "      <td>428</td>\n",
       "      <td>N492AA</td>\n",
       "      <td>62.0</td>\n",
       "      <td>44.0</td>\n",
       "      <td>-3.0</td>\n",
       "      <td>5.0</td>\n",
       "      <td>IAH</td>\n",
       "      <td>DFW</td>\n",
       "      <td>224</td>\n",
       "      <td>9.0</td>\n",
       "      <td>9.0</td>\n",
       "      <td>0</td>\n",
       "      <td>NaN</td>\n",
       "      <td>0</td>\n",
       "      <td>2011-01-05</td>\n",
       "    </tr>\n",
       "  </tbody>\n",
       "</table>\n",
       "</div>"
      ],
      "text/plain": [
       "   Year  Month  Day  DayOfWeek  DepTime  ArrTime UniqueCarrier  FlightNum  \\\n",
       "0  2011      1    1          6   1400.0   1500.0            AA        428   \n",
       "1  2011      1    2          7   1401.0   1501.0            AA        428   \n",
       "2  2011      1    3          1   1352.0   1502.0            AA        428   \n",
       "3  2011      1    4          2   1403.0   1513.0            AA        428   \n",
       "4  2011      1    5          3   1405.0   1507.0            AA        428   \n",
       "\n",
       "  TailNum  ActualElapsedTime  AirTime  ArrDelay  DepDelay Origin Dest  \\\n",
       "0  N576AA               60.0     40.0     -10.0       0.0    IAH  DFW   \n",
       "1  N557AA               60.0     45.0      -9.0       1.0    IAH  DFW   \n",
       "2  N541AA               70.0     48.0      -8.0      -8.0    IAH  DFW   \n",
       "3  N403AA               70.0     39.0       3.0       3.0    IAH  DFW   \n",
       "4  N492AA               62.0     44.0      -3.0       5.0    IAH  DFW   \n",
       "\n",
       "   Distance  TaxiIn  TaxiOut  Cancelled CancellationCode  Diverted flightDate  \n",
       "0       224     7.0     13.0          0              NaN         0 2011-01-01  \n",
       "1       224     6.0      9.0          0              NaN         0 2011-01-02  \n",
       "2       224     5.0     17.0          0              NaN         0 2011-01-03  \n",
       "3       224     9.0     22.0          0              NaN         0 2011-01-04  \n",
       "4       224     9.0      9.0          0              NaN         0 2011-01-05  "
      ]
     },
     "execution_count": 5,
     "metadata": {},
     "output_type": "execute_result"
    }
   ],
   "source": [
    "#transform the flightdate column into datetime format\n",
    "df1['flightDate'] = pd.to_datetime(df[['Year', 'Month','Day']])\n",
    "df1.head()"
   ]
  },
  {
   "cell_type": "markdown",
   "metadata": {},
   "source": [
    "# Part II: Reseach Questions"
   ]
  },
  {
   "cell_type": "markdown",
   "metadata": {},
   "source": [
    "## 1. What is the carrier least likely to delay?\n",
    "### Who ask: customers who want to find a reliable carrier that less possibly to delay a flight\n",
    "### Method: calculate the percentage of arrival delayed flights for each carrier and compare among them"
   ]
  },
  {
   "cell_type": "code",
   "execution_count": 12,
   "metadata": {
    "scrolled": true
   },
   "outputs": [],
   "source": [
    "# count number of flights for each carrier\n",
    "b = df1.groupby(['UniqueCarrier']).count()['ArrDelay']"
   ]
  },
  {
   "cell_type": "code",
   "execution_count": 13,
   "metadata": {},
   "outputs": [
    {
     "name": "stdout",
     "output_type": "stream",
     "text": [
      "UniqueCarrier\n",
      "AA    0.347222\n",
      "AS    0.568966\n",
      "B6    0.387097\n",
      "CO    0.512930\n",
      "DL    0.411765\n",
      "EV    0.406250\n",
      "F9    0.822581\n",
      "FL    0.398496\n",
      "MQ    0.421538\n",
      "OO    0.541364\n",
      "UA    0.377551\n",
      "US    0.296296\n",
      "WN    0.569948\n",
      "XE    0.480256\n",
      "Name: ArrDelay, dtype: float64\n"
     ]
    },
    {
     "data": {
      "text/plain": [
       "<matplotlib.axes._subplots.AxesSubplot at 0x1f0d9abedd8>"
      ]
     },
     "execution_count": 13,
     "metadata": {},
     "output_type": "execute_result"
    },
    {
     "data": {
      "image/png": "[encoded data removed]",
      "text/plain": [
       "<Figure size 432x288 with 1 Axes>"
      ]
     },
     "metadata": {
      "needs_background": "light"
     },
     "output_type": "display_data"
    }
   ],
   "source": [
    "# count number of arrival delayed flights for each carrier\n",
    "a = df1[df1['ArrDelay']>=0].groupby(['UniqueCarrier']).count()['ArrDelay']\n",
    "# calculate the percentage of delayed flights\n",
    "c = (a/b)\n",
    "print(c)\n",
    "# generate a boxplot for the percentage values\n",
    "c.plot(kind = 'box')"
   ]
  },
  {
   "cell_type": "code",
   "execution_count": 17,
   "metadata": {},
   "outputs": [
    {
     "name": "stdout",
     "output_type": "stream",
     "text": [
      "         ArrDelay\n",
      "count  297.000000\n",
      "mean    -3.595960\n",
      "std     22.515724\n",
      "min    -42.000000\n",
      "25%    -15.000000\n",
      "50%     -8.000000\n",
      "75%      2.000000\n",
      "max    166.000000\n"
     ]
    },
    {
     "data": {
      "text/plain": [
       "<matplotlib.axes._subplots.AxesSubplot at 0x1f0d9c90fd0>"
      ]
     },
     "execution_count": 17,
     "metadata": {},
     "output_type": "execute_result"
    },
    {
     "data": {
      "image/png": "[encoded data removed]",
      "text/plain": [
       "<Figure size 432x288 with 1 Axes>"
      ]
     },
     "metadata": {
      "needs_background": "light"
     },
     "output_type": "display_data"
    }
   ],
   "source": [
    "# according to observation US Airways (code US) has the smallest delay percentage\n",
    "# generate descriptive statistics and a boxplot for this carrier\n",
    "b = df1[['ArrDelay']][df1['UniqueCarrier'] =='US'].describe()\n",
    "print(b)\n",
    "b.plot(kind = 'box')"
   ]
  },
  {
   "cell_type": "markdown",
   "metadata": {},
   "source": [
    "## 2. What is the fastest flight from George Bush International Airport to Los Angeles International Airport?\n",
    "### Who ask: A customer who needs to travel from Houston to Los Angeles preferring these two airports wants to choose the fastest flights\n",
    "### Method: Select all the flights from IAH to LAX, group by flight number, calculate average airtime for each flight number"
   ]
  },
  {
   "cell_type": "code",
   "execution_count": 16,
   "metadata": {},
   "outputs": [
    {
     "data": {
      "text/plain": [
       "FlightNum\n",
       "47      194.615385\n",
       "52      193.000000\n",
       "137     192.971429\n",
       "195     208.333333\n",
       "595     201.500000\n",
       "695     209.666667\n",
       "795     195.771429\n",
       "1095    193.257143\n",
       "1495    192.200000\n",
       "1558    199.500000\n",
       "1595    207.000000\n",
       "1605    194.888889\n",
       "1695    196.028571\n",
       "1795    191.470588\n",
       "Name: AirTime, dtype: float64"
      ]
     },
     "execution_count": 16,
     "metadata": {},
     "output_type": "execute_result"
    }
   ],
   "source": [
    "# select all the flights with origin 'IAH' and destination 'LAX'\n",
    "# group by flight number\n",
    "# calculate average air time of each flight number\n",
    "df1[(df1['Origin'] == 'IAH') & (df1['Dest'] == 'LAX')].groupby(['FlightNum']).mean()['AirTime']"
   ]
  },
  {
   "cell_type": "markdown",
   "metadata": {},
   "source": [
    "## 3. What is the most common reason for American Airlines to cancel a flight?\n",
    "### Who ask: A customer who has American Airlines' membership and always flies with AA wants to know the major reason of cancellation\n",
    "### Method: Select all the AA flights, group by cancellation code, count number of flights for each cancellation code"
   ]
  },
  {
   "cell_type": "code",
   "execution_count": 86,
   "metadata": {},
   "outputs": [
    {
     "name": "stdout",
     "output_type": "stream",
     "text": [
      "CancellationCode\n",
      "A     2\n",
      "B    11\n",
      "C     1\n",
      "dtype: int64\n"
     ]
    },
    {
     "data": {
      "text/plain": [
       "<matplotlib.axes._subplots.AxesSubplot at 0x11abb7a20>"
      ]
     },
     "execution_count": 86,
     "metadata": {},
     "output_type": "execute_result"
    },
    {
     "data": {
      "image/png": "[encoded data removed]",
      "text/plain": [
       "<Figure size 432x288 with 1 Axes>"
      ]
     },
     "metadata": {
      "needs_background": "light"
     },
     "output_type": "display_data"
    }
   ],
   "source": [
    "# select all the AA flights\n",
    "# group by cancellation code\n",
    "# use size function to count\n",
    "a = df[df.UniqueCarrier == 'AA'][['UniqueCarrier', 'CancellationCode']].groupby(['CancellationCode']).size()\n",
    "# print out a frequency table\n",
    "print(a)\n",
    "# draw a bar chart for the frequency table\n",
    "a.plot(kind = 'bar')"
   ]
  },
  {
   "cell_type": "markdown",
   "metadata": {},
   "source": [
    "## 4. What is the farthest flight departures from George Bush International Airport?\n",
    "### Who ask: A Houston local resident lives near the airport wants to know what is the farthst place he can go by taking a direct flight from IAH\n",
    "### Method: Select all the flights from IAH, find out the largest distance value"
   ]
  },
  {
   "cell_type": "code",
   "execution_count": 110,
   "metadata": {},
   "outputs": [
    {
     "data": {
      "text/html": [
       "<div>\n",
       "<style scoped>\n",
       "    .dataframe tbody tr th:only-of-type {\n",
       "        vertical-align: middle;\n",
       "    }\n",
       "\n",
       "    .dataframe tbody tr th {\n",
       "        vertical-align: top;\n",
       "    }\n",
       "\n",
       "    .dataframe thead th {\n",
       "        text-align: right;\n",
       "    }\n",
       "</style>\n",
       "<table border=\"1\" class=\"dataframe\">\n",
       "  <thead>\n",
       "    <tr style=\"text-align: right;\">\n",
       "      <th></th>\n",
       "      <th>Origin</th>\n",
       "      <th>Dest</th>\n",
       "      <th>Distance</th>\n",
       "    </tr>\n",
       "  </thead>\n",
       "  <tbody>\n",
       "    <tr>\n",
       "      <th>355</th>\n",
       "      <td>IAH</td>\n",
       "      <td>HNL</td>\n",
       "      <td>3904</td>\n",
       "    </tr>\n",
       "  </tbody>\n",
       "</table>\n",
       "</div>"
      ],
      "text/plain": [
       "    Origin Dest  Distance\n",
       "355    IAH  HNL      3904"
      ]
     },
     "execution_count": 110,
     "metadata": {},
     "output_type": "execute_result"
    }
   ],
   "source": [
    "# select all the flights with origin 'IAH'\n",
    "# use max function to find the largest distance value\n",
    "# print out origin, destination, and distance\n",
    "df1[(df1['Origin'] == 'IAH') & (df['Distance'] == df['Distance'].max())][['Origin', 'Dest', 'Distance']].head(1)"
   ]
  },
  {
   "cell_type": "markdown",
   "metadata": {},
   "source": [
    "## Part III: Conclusion\n",
    "### Question 1.\n",
    "#### Since there are only 14 observations, we can simply see without further coding that US airways has a lowest delay percentage.\n",
    "#### From the descriptive statistics of US Airways delay information, we know that over half of their flights arrive even earlier than the schduled time. \n",
    "### Question 2. \n",
    "#### Since there are only 14 observations, we can simply see without further coding that flight number 1795 has a smallest average airtime.\n",
    "### Question 3. \n",
    "#### Since there are only 3 observations, we can simply see without further coding that cancellation code B is the most common reason, which is weather. \n",
    "### Question 4. \n",
    "#### The destination with the farthest distance is HNL, Daniel K. Inouye International Airport in Honolulu, Hawai. "
   ]
  }
 ],
 "metadata": {
  "kernelspec": {
   "display_name": "Python 3",
   "language": "python",
   "name": "python3"
  },
  "language_info": {
   "codemirror_mode": {
    "name": "ipython",
    "version": 3
   },
   "file_extension": ".py",
   "mimetype": "text/x-python",
   "name": "python",
   "nbconvert_exporter": "python",
   "pygments_lexer": "ipython3",
   "version": "3.7.3"
  }
 },
 "nbformat": 4,
 "nbformat_minor": 2
}
