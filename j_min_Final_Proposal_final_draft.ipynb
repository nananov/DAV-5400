{
 "cells": [
  {
   "cell_type": "markdown",
   "metadata": {},
   "source": [
    "# DAV 5400 Final Project Proposal\n",
    "### Team members: Jingmin Chen, Jiaqi Min, Yusen Wu"
   ]
  },
  {
   "cell_type": "markdown",
   "metadata": {},
   "source": [
    "## Introduction\n",
    "* We all know that 'Money can't buy you happiness' but we also believe happiness score changes when economy changing, which could reflect on alcohol consumption.\n",
    "* In our research, we are going to dive into alcohol consumption and economy in different area. The datasets we found contain attributes like GDP per capita & HDI (Human Development Index), which indicate difference economic level and living expenses, the higher GDP per capita and HDI are, the better economy is. We are going to focus on the change in between economy, alcohol consumption and happiness score in different region. Beyond that, this research covers the price point and quality of wine as well； certain features of higher rated wine at different price point, so our targeted audience can get more information of alcohol business."
   ]
  },
  {
   "cell_type": "markdown",
   "metadata": {},
   "source": [
    "## Research Questions\n",
    "* What is the correlation between alcohol consumption and economy of different regions.This research question intent to uncover, the correlation between alcohol consumption and economy, specificaly we believe wine consumption may reflect economy more than other type of alcohol, we will also explain what make the wine consumption different, what are features of higher-rated wine and also price difference.\n",
    "\n",
    "\n",
    "* Results of our research questions might be used for an alcohol company or individual liquor store, providing them a better view of the liquor business, including price aspect and category aspect. Our research can provide them more information about how to position their product,individual store or liquor company depending on the local economics."
   ]
  },
  {
   "cell_type": "markdown",
   "metadata": {},
   "source": [
    "## Data to be Used\n",
    "* 1.Wine Reviews  \n",
    "* (https://www.kaggle.com/zynicide/wine-reviews)\n",
    "* Data from this source will be collected in a json format\n",
    "* 2.Happiness and alcohol consumption \n",
    "* (https://www.kaggle.com/marcospessotto/happiness-and-alcohol-consumption)\n",
    "* Data from this source will be collected in a csv file"
   ]
  },
  {
   "cell_type": "markdown",
   "metadata": {},
   "source": [
    "## Approach\n",
    "* Since we have two types of datasets (CSV and JSON) and both datasets have a huge amount of data, we decided to only use related data for our research. We will use python pandas to read these datasets and do the cleaning up and transformation and combine these two datasets into one dataset and stored in our online Github as CSV format.\n",
    "* To analyze our data, we would apply a box plot and a histogram for each of the alcohol type from the alcohol consumption dataset, and do a bar chart of alcohol category for each of the few countries with the highest wine consumption; then select those countries from the wine review dataset, and draw a scatter plot to show the relationship between price and review points. "
   ]
  },
  {
   "cell_type": "markdown",
   "metadata": {},
   "source": [
    "## Feature not covered this semester.\n",
    "* For a feature we have not covered this semester, we would like to use python plotly library to generate a Choropleth Maps to show the average wine price for each country in the world. "
   ]
  },
  {
   "cell_type": "code",
   "execution_count": null,
   "metadata": {},
   "outputs": [],
   "source": []
  }
 ],
 "metadata": {
  "kernelspec": {
   "display_name": "Python 3",
   "language": "python",
   "name": "python3"
  },
  "language_info": {
   "codemirror_mode": {
    "name": "ipython",
    "version": 3
   },
   "file_extension": ".py",
   "mimetype": "text/x-python",
   "name": "python",
   "nbconvert_exporter": "python",
   "pygments_lexer": "ipython3",
   "version": "3.7.3"
  }
 },
 "nbformat": 4,
 "nbformat_minor": 2
}
