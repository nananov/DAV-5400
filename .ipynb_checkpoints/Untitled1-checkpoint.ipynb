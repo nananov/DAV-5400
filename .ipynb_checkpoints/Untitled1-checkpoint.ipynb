{
 "cells": [
  {
   "cell_type": "code",
   "execution_count": 118,
   "metadata": {},
   "outputs": [
    {
     "data": {
      "text/plain": [
       "'555-1239Moe Szyslak(636) 555-0113Burns, C. Montgomery555 -6542Rev. Timothy Lovejoy555 8904Ned Flanders636-555-3226Simpson, Homer5553642Dr. Julius Hibbert'"
      ]
     },
     "execution_count": 118,
     "metadata": {},
     "output_type": "execute_result"
    }
   ],
   "source": [
    "# load the regular expression module\n",
    "import re\n",
    "import pandas as pd\n",
    "\n",
    "# input the text will be used\n",
    "sf = \"555-1239Moe Szyslak(636) 555-0113Burns, C. Montgomery555 -6542Rev. Timothy Lovejoy555 8904Ned Flanders636-555-3226Simpson, Homer5553642Dr. Julius Hibbert\"\n",
    "sf"
   ]
  },
  {
   "cell_type": "markdown",
   "metadata": {},
   "source": [
    "### Question 1\n",
    "- Extract the names of each individual from the unformatted text string and store them in a vector of some sort. \n",
    "- In the provided text, names of each individual are combined by several alphabet only parts, and there is space, comma, or period between each part. Each part of the name must start with a capital letter so we use [A-Z]+ to start, followed by [a-z]+ and [\\s.,]+.\n",
    "- Some names have 2 alphabet parts while some names have 3, so the thirt part has * instead of +. Some names has only initial so [a-z] in this part also has a *."
   ]
  },
  {
   "cell_type": "code",
   "execution_count": 104,
   "metadata": {},
   "outputs": [
    {
     "data": {
      "text/plain": [
       "['Moe Szyslak',\n",
       " 'Burns, C. Montgomery',\n",
       " 'Rev. Timothy Lovejoy',\n",
       " 'Ned Flanders',\n",
       " 'Simpson, Homer',\n",
       " 'Dr. Julius Hibbert']"
      ]
     },
     "execution_count": 104,
     "metadata": {},
     "output_type": "execute_result"
    }
   ],
   "source": [
    "#use re.findall to select all the names\n",
    "sfnew = re.findall('[A-Z]+[a-z]+[\\s.,]+[A-Z]+[a-z]*[\\s.,]*[A-Z]*[a-z]*', sf)\n",
    "sfnew"
   ]
  },
  {
   "cell_type": "markdown",
   "metadata": {},
   "source": [
    "### Question 2\n",
    "### a. \n",
    "- Rearrange the vector so that all elements conform to the standard “firstname lastname”. \n",
    "- Names that do not in the standard have a comma between last name and first name. We can use re.compile function to retrive everything before the comma, the comma, and everything after the comma. Then for the names with wrong forms, we use sub function to reorder the necessary parts into the standard. "
   ]
  },
  {
   "cell_type": "code",
   "execution_count": 115,
   "metadata": {},
   "outputs": [
    {
     "data": {
      "text/plain": [
       "['Moe Szyslak',\n",
       " 'C. Montgomery Burns',\n",
       " 'Rev. Timothy Lovejoy',\n",
       " 'Ned Flanders',\n",
       " 'Homer Simpson',\n",
       " 'Dr. Julius Hibbert']"
      ]
     },
     "execution_count": 115,
     "metadata": {},
     "output_type": "execute_result"
    }
   ],
   "source": [
    "#use re.compile function to rearrange the order of the names\n",
    "r = re.compile('(^.*)(, )(.*$)')\n",
    "sfnew[1] = r.sub(r'\\3 \\1', sfnew[1])\n",
    "sfnew[4] = r.sub(r'\\3 \\1', sfnew[4])\n",
    "sfnew"
   ]
  },
  {
   "cell_type": "markdown",
   "metadata": {},
   "source": [
    "### b.\n",
    "- Construct a logical vector indicating whether a character has a title. \n",
    "- A title is a word with a capital letter in the first and followed by a period, so we can use [A-Z]+[a-z]+[.] to identify a title within a name. \n",
    "- To use str.contains function to find the desired part inside of a name, we have to firstly convert the name list into a pandas series. "
   ]
  },
  {
   "cell_type": "code",
   "execution_count": 124,
   "metadata": {},
   "outputs": [
    {
     "data": {
      "text/plain": [
       "0    False\n",
       "1    False\n",
       "2     True\n",
       "3    False\n",
       "4    False\n",
       "5     True\n",
       "dtype: bool"
      ]
     },
     "execution_count": 124,
     "metadata": {},
     "output_type": "execute_result"
    }
   ],
   "source": [
    "# convert the name list into pandas series\n",
    "sfnew = pd.Series(sfnew)\n",
    "# find in each item of the series to see if it contains a title\n",
    "sfnew.str.contains('[A-Z]+[a-z]+[.]')"
   ]
  },
  {
   "cell_type": "markdown",
   "metadata": {},
   "source": [
    "### c.\n",
    "- Construct a logical vector indicating whether a character has a middle/second name. \n",
    "- A second name appears here as the form of only initial followed by a period, so we can use [A-Z][.] to identify a second name within a name. "
   ]
  },
  {
   "cell_type": "code",
   "execution_count": 125,
   "metadata": {},
   "outputs": [
    {
     "data": {
      "text/plain": [
       "0    False\n",
       "1     True\n",
       "2    False\n",
       "3    False\n",
       "4    False\n",
       "5    False\n",
       "dtype: bool"
      ]
     },
     "execution_count": 125,
     "metadata": {},
     "output_type": "execute_result"
    }
   ],
   "source": [
    "# find in each item of the series to see if it contains a second name\n",
    "sfnew.str.contains('[A-Z][.]')"
   ]
  },
  {
   "cell_type": "markdown",
   "metadata": {},
   "source": [
    "### Question 3\n",
    "- Consider the HTML string. We would like to extract the first HTML tag. To do so we write the regular expression <.+>.  Explain why this fails and correct the expression.\n",
    "- This fails because instead of matching till the first occurrence of ‘>’ at the end of first tag itself, it extracted the whole string. This is the default greedy or ‘take it all’ behavior of regex.\n",
    "- To extract only the first HTML tag, firstly we have to use <.+?> instead so that it will match till the first '>'; Then in order to keep only the first tag, we can use re.search() and group(). "
   ]
  },
  {
   "cell_type": "code",
   "execution_count": 133,
   "metadata": {},
   "outputs": [
    {
     "data": {
      "text/plain": [
       "'<title>'"
      ]
     },
     "execution_count": 133,
     "metadata": {},
     "output_type": "execute_result"
    }
   ],
   "source": [
    "# input the text will be used\n",
    "ht = \"<title>+++BREAKING NEWS+++<title>\"\n",
    "# use re.search function to extract the first HTML tag\n",
    "re.search('<.+?>', ht).group()"
   ]
  },
  {
   "cell_type": "code",
   "execution_count": null,
   "metadata": {},
   "outputs": [],
   "source": [
    "### Question 4\n",
    "- Consider the string '(5-3)^2=5^2-2*5*3+3^2' conforms to the binomial theorem. We would like to extract the formula in the string. To do so we write the regular expression '[^0-9=+*()]+'. Explain why this fails and correct the expression.\n",
    "- "
   ]
  },
  {
   "cell_type": "code",
   "execution_count": 134,
   "metadata": {},
   "outputs": [
    {
     "data": {
      "text/plain": [
       "['-', '^', '^', '-', '^']"
      ]
     },
     "execution_count": 134,
     "metadata": {},
     "output_type": "execute_result"
    }
   ],
   "source": [
    "#\n",
    "bt = \"(5-3)^2=5^2-2*5*3+3^2\"\n",
    "re.findall('[^0-9=+*()]+', bt)"
   ]
  },
  {
   "cell_type": "code",
   "execution_count": null,
   "metadata": {},
   "outputs": [],
   "source": []
  }
 ],
 "metadata": {
  "kernelspec": {
   "display_name": "Python 3",
   "language": "python",
   "name": "python3"
  },
  "language_info": {
   "codemirror_mode": {
    "name": "ipython",
    "version": 3
   },
   "file_extension": ".py",
   "mimetype": "text/x-python",
   "name": "python",
   "nbconvert_exporter": "python",
   "pygments_lexer": "ipython3",
   "version": "3.7.3"
  }
 },
 "nbformat": 4,
 "nbformat_minor": 2
}
